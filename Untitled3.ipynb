{
  "metadata": {
    "language_info": {
      "codemirror_mode": {
        "name": "python",
        "version": 3
      },
      "file_extension": ".py",
      "mimetype": "text/x-python",
      "name": "python",
      "nbconvert_exporter": "python",
      "pygments_lexer": "ipython3",
      "version": "3.8"
    },
    "kernelspec": {
      "name": "python",
      "display_name": "Pyolite",
      "language": "python"
    }
  },
  "nbformat_minor": 4,
  "nbformat": 4,
  "cells": [
    {
      "cell_type": "markdown",
      "source": "## \"My Jupyter Notebook\"",
      "metadata": {
        "jp-MarkdownHeadingCollapsed": true,
        "tags": []
      }
    },
    {
      "cell_type": "markdown",
      "source": " **Aalia Bello**\nI am interested in data science because it can help me with my desierd occupations of a career in Artifical Intelligence",
      "metadata": {}
    },
    {
      "cell_type": "markdown",
      "source": "## My code is suppose is print out a message ",
      "metadata": {}
    },
    {
      "cell_type": "code",
      "source": " print(\"hello, data science\")\n print (\"welcome\")\nprint(\"tools for data scienc\")\n    ",
      "metadata": {
        "trusted": true
      },
      "execution_count": 9,
      "outputs": [
        {
          "name": "stdout",
          "text": "hello, data science\nwelcome\ntools for data scienc\n",
          "output_type": "stream"
        }
      ]
    },
    {
      "cell_type": "markdown",
      "source": "  -[] Python\n  -[] r language\n  -[] SQL\n  -[] juypter notebook\n  -[] watson studio\n",
      "metadata": {
        "tags": []
      }
    }
  ]
}